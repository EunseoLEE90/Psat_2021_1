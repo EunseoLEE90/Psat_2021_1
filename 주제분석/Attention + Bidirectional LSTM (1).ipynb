{
 "cells": [
  {
   "cell_type": "code",
   "execution_count": 20,
   "metadata": {},
   "outputs": [],
   "source": [
    "import pandas as pd\n",
    "import numpy as np\n",
    "import ast"
   ]
  },
  {
   "cell_type": "code",
   "execution_count": 21,
   "metadata": {},
   "outputs": [],
   "source": [
    "data = pd.read_csv(\"FINAL_RE_PLC_review_tokenized_okt_30377.csv\")"
   ]
  },
  {
   "cell_type": "code",
   "execution_count": 22,
   "metadata": {},
   "outputs": [],
   "source": [
    "data['review_tokens'] = data['review_tokens'].apply(lambda x: ast.literal_eval(x))"
   ]
  },
  {
   "cell_type": "code",
   "execution_count": 23,
   "metadata": {},
   "outputs": [],
   "source": [
    "from tensorflow.keras.callbacks import EarlyStopping, ModelCheckpoint\n",
    "from tensorflow.keras.preprocessing.text import Tokenizer\n",
    "from tensorflow.keras.preprocessing.sequence import pad_sequences\n",
    "from tensorflow.keras.utils import to_categorical\n",
    "import tensorflow as tf\n",
    "import tensorflow_addons as tfa\n",
    "from sklearn.preprocessing import LabelEncoder"
   ]
  },
  {
   "cell_type": "code",
   "execution_count": 24,
   "metadata": {},
   "outputs": [],
   "source": [
    "tokenizer = Tokenizer()\n",
    "tokenizer.fit_on_texts(data['review_tokens'])\n",
    "X = tokenizer.texts_to_sequences(data['review_tokens']) # Sequence 변환\n",
    "max_len = 82\n",
    "X = pad_sequences(X, max_len)\n",
    "le = LabelEncoder()\n",
    "y = le.fit_transform(data.plc)\n",
    "y = to_categorical(y)"
   ]
  },
  {
   "cell_type": "code",
   "execution_count": 25,
   "metadata": {},
   "outputs": [],
   "source": [
    "vocab_size = len(tokenizer.word_index) + 2"
   ]
  },
  {
   "cell_type": "code",
   "execution_count": 26,
   "metadata": {
    "scrolled": true
   },
   "outputs": [],
   "source": [
    "embedding_matrix = np.load('embedding_mat.npy')"
   ]
  },
  {
   "cell_type": "markdown",
   "metadata": {},
   "source": [
    "## Attention + Bidirectional LSTM 구현"
   ]
  },
  {
   "cell_type": "code",
   "execution_count": 27,
   "metadata": {},
   "outputs": [],
   "source": [
    "from tensorflow.keras.layers import Dense, Embedding, Bidirectional, LSTM, Concatenate, Dropout\n",
    "from tensorflow.keras import Input, Model\n",
    "from tensorflow.keras import optimizers\n",
    "import os"
   ]
  },
  {
   "cell_type": "markdown",
   "metadata": {},
   "source": [
    "class BahdanauAttention(tf.keras.Model):\n",
    "    def __init__(self, units):\n",
    "        super(BahdanauAttention, self).__init__()\n",
    "        self.W1 = Dense(units)\n",
    "        self.W2 = Dense(units)\n",
    "        self.V = Dense(1)\n",
    "    \n",
    "    def call(self, values, query):\n",
    "        hidden_with_time_axis = tf.expand_dims(query, 1)\n",
    "        \n",
    "        score = self.V(tf.nn.tanh(\n",
    "        self.W1(values) + self.W2(hidden_with_time_axis)))\n",
    "        \n",
    "        attention_weights = tf.nn.softmax(score, axis = 1)\n",
    "        \n",
    "        context_vector = attention_weights * values\n",
    "        context_vector = tf.reduce_sum(context_vector, axis = 1)\n",
    "        \n",
    "        return context_vector, attention_weights"
   ]
  },
  {
   "cell_type": "code",
   "execution_count": 28,
   "metadata": {},
   "outputs": [],
   "source": [
    "class BahdanauAttention(tf.keras.Model):\n",
    "    def __init__(self, units):\n",
    "        super(BahdanauAttention, self).__init__()\n",
    "        self.W1 = Dense(units)\n",
    "        self.W2 = Dense(units)\n",
    "        self.V = Dense(1)\n",
    "\n",
    "    def call(self, values, query): \n",
    "        hidden_with_time_axis = tf.expand_dims(query, 1)\n",
    "        score = self.V(tf.nn.tanh(self.W1(values) + self.W2(hidden_with_time_axis)))\n",
    "        attention_weights = tf.nn.softmax(score, axis=1)\n",
    "        context_vector = attention_weights * values\n",
    "        context_vector = tf.reduce_sum(context_vector, axis=1)\n",
    "        return context_vector, attention_weights"
   ]
  },
  {
   "cell_type": "code",
   "execution_count": 32,
   "metadata": {},
   "outputs": [],
   "source": [
    "sequence_input = Input(shape = (max_len, ), dtype = 'int32')\n",
    "embedded_sequences = Embedding(vocab_size, 300, weights=[embedding_matrix], input_length=max_len, trainable=False, \n",
    "                               mask_zero = True)(sequence_input)\n",
    "lstm = Bidirectional(LSTM(units = 128, dropout = 0.2, return_sequences = True))(embedded_sequences)\n",
    "lstm, forward_h, forward_c, backward_h, backward_c = Bidirectional(LSTM(units = 129, dropout = 0.2, return_sequences=True, return_state=True))(lstm)\n",
    "    \n",
    "state_h = Concatenate()([forward_h, backward_h])\n",
    "state_c = Concatenate()([forward_c, backward_c])\n",
    "    \n",
    "attention = BahdanauAttention(64) # 가중치 크기 정의\n",
    "context_vector, attention_weights = attention(lstm, state_h)\n",
    "        \n",
    "dense = Dense(units = 300, activation=\"relu\")(context_vector)\n",
    "dropout = Dropout(rate = 0.2)(dense)\n",
    "output = Dense(349, activation=\"softmax\")(dropout)\n",
    "    \n",
    "model = Model(inputs=sequence_input, outputs=output)\n",
    "    \n",
    "model.compile(optimizer='adam', loss='categorical_crossentropy', metrics=[tfa.metrics.FBetaScore(num_classes=349, average='micro', beta=0.5)])"
   ]
  },
  {
   "cell_type": "code",
   "execution_count": 33,
   "metadata": {},
   "outputs": [],
   "source": [
    "early_stopping = EarlyStopping(monitor='loss', patience=5)\n",
    "val_f1_score = float('-inf')\n",
    "model_checkpoint = ModelCheckpoint('Attention_BiLSTM.h5', monitor = 'fbeta_score', mode = 'max', verbose = 1, save_best_only = True)"
   ]
  },
  {
   "cell_type": "code",
   "execution_count": 34,
   "metadata": {
    "scrolled": true
   },
   "outputs": [
    {
     "name": "stdout",
     "output_type": "stream",
     "text": [
      "Epoch 1/150\n",
      "238/238 [==============================] - 184s 730ms/step - loss: 4.9444 - fbeta_score: 0.0607\n",
      "Epoch 2/150\n",
      "238/238 [==============================] - 174s 732ms/step - loss: 4.1954 - fbeta_score: 0.1382\n",
      "Epoch 3/150\n",
      "238/238 [==============================] - 175s 734ms/step - loss: 3.6096 - fbeta_score: 0.2328\n",
      "Epoch 4/150\n",
      "238/238 [==============================] - 174s 732ms/step - loss: 3.2921 - fbeta_score: 0.2866\n",
      "Epoch 5/150\n",
      "238/238 [==============================] - 175s 734ms/step - loss: 3.0493 - fbeta_score: 0.3287\n",
      "Epoch 6/150\n",
      "238/238 [==============================] - 175s 735ms/step - loss: 2.9070 - fbeta_score: 0.3518\n",
      "Epoch 7/150\n",
      "238/238 [==============================] - 174s 733ms/step - loss: 2.7612 - fbeta_score: 0.3793\n",
      "Epoch 8/150\n",
      "238/238 [==============================] - 176s 738ms/step - loss: 2.6216 - fbeta_score: 0.4010\n",
      "Epoch 9/150\n",
      "238/238 [==============================] - 174s 732ms/step - loss: 2.5471 - fbeta_score: 0.4109\n",
      "Epoch 10/150\n",
      "238/238 [==============================] - 175s 733ms/step - loss: 2.4606 - fbeta_score: 0.4266\n",
      "Epoch 11/150\n",
      "238/238 [==============================] - 175s 735ms/step - loss: 2.3375 - fbeta_score: 0.4470\n",
      "Epoch 12/150\n",
      "238/238 [==============================] - 176s 738ms/step - loss: 2.2780 - fbeta_score: 0.4535\n",
      "Epoch 13/150\n",
      "238/238 [==============================] - 175s 734ms/step - loss: 2.2126 - fbeta_score: 0.4553\n",
      "Epoch 14/150\n",
      "238/238 [==============================] - 174s 733ms/step - loss: 2.1247 - fbeta_score: 0.4786\n",
      "Epoch 15/150\n",
      "238/238 [==============================] - 174s 731ms/step - loss: 2.0543 - fbeta_score: 0.4900\n",
      "Epoch 16/150\n",
      "238/238 [==============================] - 174s 733ms/step - loss: 2.0235 - fbeta_score: 0.4873\n",
      "Epoch 17/150\n",
      "238/238 [==============================] - 173s 725ms/step - loss: 1.9084 - fbeta_score: 0.5173\n",
      "Epoch 18/150\n",
      "238/238 [==============================] - 176s 738ms/step - loss: 1.8448 - fbeta_score: 0.5261\n",
      "Epoch 19/150\n",
      "238/238 [==============================] - 174s 730ms/step - loss: 1.8213 - fbeta_score: 0.5230\n",
      "Epoch 20/150\n",
      "238/238 [==============================] - 175s 736ms/step - loss: 1.7583 - fbeta_score: 0.5422\n",
      "Epoch 21/150\n",
      "238/238 [==============================] - 174s 730ms/step - loss: 1.6738 - fbeta_score: 0.5573\n",
      "Epoch 22/150\n",
      "238/238 [==============================] - 175s 734ms/step - loss: 1.6252 - fbeta_score: 0.5661\n",
      "Epoch 23/150\n",
      "238/238 [==============================] - 175s 735ms/step - loss: 1.5892 - fbeta_score: 0.5753\n",
      "Epoch 24/150\n",
      "238/238 [==============================] - 175s 734ms/step - loss: 1.5590 - fbeta_score: 0.5784\n",
      "Epoch 25/150\n",
      "238/238 [==============================] - 174s 733ms/step - loss: 1.4996 - fbeta_score: 0.5932\n",
      "Epoch 26/150\n",
      "238/238 [==============================] - 175s 734ms/step - loss: 1.4574 - fbeta_score: 0.6036\n",
      "Epoch 27/150\n",
      "238/238 [==============================] - 175s 734ms/step - loss: 1.4341 - fbeta_score: 0.6037\n",
      "Epoch 28/150\n",
      "238/238 [==============================] - 175s 737ms/step - loss: 1.3488 - fbeta_score: 0.6201\n",
      "Epoch 29/150\n",
      "238/238 [==============================] - 175s 734ms/step - loss: 1.3208 - fbeta_score: 0.6287\n",
      "Epoch 30/150\n",
      "238/238 [==============================] - 175s 737ms/step - loss: 1.2735 - fbeta_score: 0.6366\n",
      "Epoch 31/150\n",
      "238/238 [==============================] - 174s 733ms/step - loss: 1.2529 - fbeta_score: 0.6414\n",
      "Epoch 32/150\n",
      "238/238 [==============================] - 174s 732ms/step - loss: 1.2087 - fbeta_score: 0.6510\n",
      "Epoch 33/150\n",
      "238/238 [==============================] - 174s 731ms/step - loss: 1.1744 - fbeta_score: 0.6591\n",
      "Epoch 34/150\n",
      "238/238 [==============================] - 175s 733ms/step - loss: 1.1476 - fbeta_score: 0.6663\n",
      "Epoch 35/150\n",
      "238/238 [==============================] - 175s 734ms/step - loss: 1.1308 - fbeta_score: 0.6735\n",
      "Epoch 36/150\n",
      "238/238 [==============================] - 174s 731ms/step - loss: 1.0794 - fbeta_score: 0.6836\n",
      "Epoch 37/150\n",
      "238/238 [==============================] - 174s 731ms/step - loss: 1.0664 - fbeta_score: 0.6835\n",
      "Epoch 38/150\n",
      "238/238 [==============================] - 174s 732ms/step - loss: 1.0284 - fbeta_score: 0.6943\n",
      "Epoch 39/150\n",
      "238/238 [==============================] - 174s 732ms/step - loss: 1.0042 - fbeta_score: 0.6981\n",
      "Epoch 40/150\n",
      "238/238 [==============================] - 175s 733ms/step - loss: 1.0047 - fbeta_score: 0.6997\n",
      "Epoch 41/150\n",
      "238/238 [==============================] - 175s 733ms/step - loss: 0.9650 - fbeta_score: 0.7090\n",
      "Epoch 42/150\n",
      "238/238 [==============================] - 173s 728ms/step - loss: 0.9584 - fbeta_score: 0.7114\n",
      "Epoch 43/150\n",
      "238/238 [==============================] - 174s 733ms/step - loss: 0.9087 - fbeta_score: 0.7197\n",
      "Epoch 44/150\n",
      "238/238 [==============================] - 173s 728ms/step - loss: 0.8869 - fbeta_score: 0.7254\n",
      "Epoch 45/150\n",
      "238/238 [==============================] - 175s 737ms/step - loss: 0.8774 - fbeta_score: 0.7308\n",
      "Epoch 46/150\n",
      "238/238 [==============================] - 174s 730ms/step - loss: 0.8524 - fbeta_score: 0.7385\n",
      "Epoch 47/150\n",
      "238/238 [==============================] - 175s 733ms/step - loss: 0.8427 - fbeta_score: 0.7405\n",
      "Epoch 48/150\n",
      "238/238 [==============================] - 174s 732ms/step - loss: 0.8237 - fbeta_score: 0.7453\n",
      "Epoch 49/150\n",
      "238/238 [==============================] - 175s 734ms/step - loss: 0.7917 - fbeta_score: 0.7530\n",
      "Epoch 50/150\n",
      "238/238 [==============================] - 175s 734ms/step - loss: 0.7889 - fbeta_score: 0.7512\n",
      "Epoch 51/150\n",
      "238/238 [==============================] - 174s 731ms/step - loss: 0.7728 - fbeta_score: 0.7622\n",
      "Epoch 52/150\n",
      "238/238 [==============================] - 173s 728ms/step - loss: 0.7555 - fbeta_score: 0.7640\n",
      "Epoch 53/150\n",
      "238/238 [==============================] - 175s 734ms/step - loss: 0.7453 - fbeta_score: 0.7639\n",
      "Epoch 54/150\n",
      "238/238 [==============================] - 174s 733ms/step - loss: 0.7360 - fbeta_score: 0.7660\n",
      "Epoch 55/150\n",
      "238/238 [==============================] - 175s 734ms/step - loss: 0.7213 - fbeta_score: 0.7694\n",
      "Epoch 56/150\n",
      "238/238 [==============================] - 175s 734ms/step - loss: 0.6909 - fbeta_score: 0.7806\n",
      "Epoch 57/150\n",
      "238/238 [==============================] - 173s 728ms/step - loss: 0.6799 - fbeta_score: 0.7835\n",
      "Epoch 58/150\n",
      "238/238 [==============================] - 175s 736ms/step - loss: 0.6806 - fbeta_score: 0.7855\n",
      "Epoch 59/150\n",
      "238/238 [==============================] - 174s 729ms/step - loss: 0.6643 - fbeta_score: 0.7848\n",
      "Epoch 60/150\n",
      "238/238 [==============================] - 175s 735ms/step - loss: 0.6633 - fbeta_score: 0.7855\n",
      "Epoch 61/150\n",
      "238/238 [==============================] - 174s 730ms/step - loss: 0.6644 - fbeta_score: 0.7841\n",
      "Epoch 62/150\n",
      "238/238 [==============================] - 175s 736ms/step - loss: 0.6277 - fbeta_score: 0.7969\n",
      "Epoch 63/150\n",
      "238/238 [==============================] - 175s 733ms/step - loss: 0.6209 - fbeta_score: 0.7974\n",
      "Epoch 64/150\n",
      "238/238 [==============================] - 174s 732ms/step - loss: 0.6160 - fbeta_score: 0.7964\n",
      "Epoch 65/150\n",
      "238/238 [==============================] - 174s 732ms/step - loss: 0.6047 - fbeta_score: 0.8024\n",
      "Epoch 66/150\n",
      "238/238 [==============================] - 175s 734ms/step - loss: 0.6020 - fbeta_score: 0.8065\n",
      "Epoch 67/150\n",
      "238/238 [==============================] - 173s 729ms/step - loss: 0.5909 - fbeta_score: 0.8095\n",
      "Epoch 68/150\n",
      "238/238 [==============================] - 175s 735ms/step - loss: 0.5873 - fbeta_score: 0.8055\n",
      "Epoch 69/150\n",
      "238/238 [==============================] - 173s 727ms/step - loss: 0.5782 - fbeta_score: 0.8109\n",
      "Epoch 70/150\n",
      "238/238 [==============================] - 175s 736ms/step - loss: 0.5706 - fbeta_score: 0.8146\n",
      "Epoch 71/150\n",
      "238/238 [==============================] - 173s 727ms/step - loss: 0.5615 - fbeta_score: 0.8144\n",
      "Epoch 72/150\n",
      "238/238 [==============================] - 174s 731ms/step - loss: 0.5714 - fbeta_score: 0.8121\n",
      "Epoch 73/150\n",
      "238/238 [==============================] - 175s 734ms/step - loss: 0.5382 - fbeta_score: 0.8214\n",
      "Epoch 74/150\n",
      "238/238 [==============================] - 174s 731ms/step - loss: 0.5597 - fbeta_score: 0.8154\n",
      "Epoch 75/150\n",
      "238/238 [==============================] - 175s 734ms/step - loss: 0.5601 - fbeta_score: 0.8160\n",
      "Epoch 76/150\n",
      "238/238 [==============================] - 174s 732ms/step - loss: 0.5264 - fbeta_score: 0.8239\n",
      "Epoch 77/150\n",
      "238/238 [==============================] - 174s 731ms/step - loss: 0.5238 - fbeta_score: 0.8266\n",
      "Epoch 78/150\n",
      "238/238 [==============================] - 176s 740ms/step - loss: 0.5312 - fbeta_score: 0.8230\n",
      "Epoch 79/150\n",
      "238/238 [==============================] - 175s 734ms/step - loss: 0.5101 - fbeta_score: 0.8297\n",
      "Epoch 80/150\n",
      "238/238 [==============================] - 173s 729ms/step - loss: 0.5148 - fbeta_score: 0.8273\n",
      "Epoch 81/150\n",
      "238/238 [==============================] - 174s 731ms/step - loss: 0.5205 - fbeta_score: 0.8267\n",
      "Epoch 82/150\n",
      "238/238 [==============================] - 174s 732ms/step - loss: 0.4989 - fbeta_score: 0.8319\n",
      "Epoch 83/150\n",
      "238/238 [==============================] - 174s 731ms/step - loss: 0.5246 - fbeta_score: 0.8256\n",
      "Epoch 84/150\n",
      "238/238 [==============================] - 174s 730ms/step - loss: 0.5020 - fbeta_score: 0.8329\n",
      "Epoch 85/150\n",
      "238/238 [==============================] - 174s 731ms/step - loss: 0.4928 - fbeta_score: 0.8321\n",
      "Epoch 86/150\n",
      "238/238 [==============================] - 175s 733ms/step - loss: 0.4891 - fbeta_score: 0.8350\n",
      "Epoch 87/150\n",
      "238/238 [==============================] - 174s 733ms/step - loss: 0.4833 - fbeta_score: 0.8359\n",
      "Epoch 88/150\n",
      "238/238 [==============================] - 174s 730ms/step - loss: 0.4910 - fbeta_score: 0.8310\n",
      "Epoch 89/150\n",
      "238/238 [==============================] - 174s 730ms/step - loss: 0.4704 - fbeta_score: 0.8406\n",
      "Epoch 90/150\n",
      "238/238 [==============================] - 173s 726ms/step - loss: 0.4776 - fbeta_score: 0.8386\n",
      "Epoch 91/150\n",
      "238/238 [==============================] - 174s 731ms/step - loss: 0.4722 - fbeta_score: 0.8416\n",
      "Epoch 92/150\n",
      "238/238 [==============================] - 175s 734ms/step - loss: 0.4733 - fbeta_score: 0.8398\n",
      "Epoch 93/150\n",
      "238/238 [==============================] - 174s 731ms/step - loss: 0.4665 - fbeta_score: 0.8411\n",
      "Epoch 94/150\n",
      "238/238 [==============================] - 174s 730ms/step - loss: 0.4763 - fbeta_score: 0.8345\n",
      "Epoch 95/150\n",
      "238/238 [==============================] - 174s 733ms/step - loss: 0.4730 - fbeta_score: 0.8392\n",
      "Epoch 96/150\n",
      "238/238 [==============================] - 173s 728ms/step - loss: 0.4624 - fbeta_score: 0.8424\n",
      "Epoch 97/150\n",
      "238/238 [==============================] - 175s 736ms/step - loss: 0.4627 - fbeta_score: 0.8425\n",
      "Epoch 98/150\n",
      "238/238 [==============================] - 173s 727ms/step - loss: 0.4486 - fbeta_score: 0.8462\n",
      "Epoch 99/150\n",
      "238/238 [==============================] - 174s 731ms/step - loss: 0.4565 - fbeta_score: 0.8450\n",
      "Epoch 100/150\n",
      "238/238 [==============================] - 174s 731ms/step - loss: 0.4584 - fbeta_score: 0.8419\n",
      "Epoch 101/150\n",
      "238/238 [==============================] - 174s 729ms/step - loss: 0.4327 - fbeta_score: 0.8539\n",
      "Epoch 102/150\n",
      "238/238 [==============================] - 174s 732ms/step - loss: 0.4406 - fbeta_score: 0.8480\n",
      "Epoch 103/150\n",
      "238/238 [==============================] - 174s 729ms/step - loss: 0.4416 - fbeta_score: 0.8477\n",
      "Epoch 104/150\n",
      "238/238 [==============================] - 173s 726ms/step - loss: 0.4387 - fbeta_score: 0.8477\n",
      "Epoch 105/150\n",
      "238/238 [==============================] - 174s 731ms/step - loss: 0.4444 - fbeta_score: 0.8491\n",
      "Epoch 106/150\n",
      "238/238 [==============================] - 173s 728ms/step - loss: 0.4359 - fbeta_score: 0.8478\n",
      "Epoch 107/150\n",
      "238/238 [==============================] - 174s 732ms/step - loss: 0.4172 - fbeta_score: 0.8563\n",
      "Epoch 108/150\n",
      "238/238 [==============================] - 173s 727ms/step - loss: 0.4180 - fbeta_score: 0.8557\n",
      "Epoch 109/150\n",
      "238/238 [==============================] - 174s 732ms/step - loss: 0.4370 - fbeta_score: 0.8474\n",
      "Epoch 110/150\n",
      "238/238 [==============================] - 174s 731ms/step - loss: 0.4146 - fbeta_score: 0.8522\n",
      "Epoch 111/150\n",
      "238/238 [==============================] - 174s 731ms/step - loss: 0.4177 - fbeta_score: 0.8565\n",
      "Epoch 112/150\n",
      "238/238 [==============================] - 174s 732ms/step - loss: 0.4289 - fbeta_score: 0.8535\n"
     ]
    }
   ],
   "source": [
    "history = model.fit(X, y, epochs=150, callbacks=[early_stopping], batch_size=128)"
   ]
  },
  {
   "cell_type": "code",
   "execution_count": 90,
   "metadata": {},
   "outputs": [],
   "source": [
    "model.save_weights('attention_weights.h5')"
   ]
  },
  {
   "cell_type": "code",
   "execution_count": 97,
   "metadata": {},
   "outputs": [],
   "source": [
    "def create_model():\n",
    "    \n",
    "    class BahdanauAttention(tf.keras.Model):\n",
    "        def __init__(self, units):\n",
    "            super(BahdanauAttention, self).__init__()\n",
    "            self.W1 = Dense(units)\n",
    "            self.W2 = Dense(units)\n",
    "            self.V = Dense(1)\n",
    "\n",
    "        def call(self, values, query): \n",
    "            hidden_with_time_axis = tf.expand_dims(query, 1)\n",
    "            score = self.V(tf.nn.tanh(self.W1(values) + self.W2(hidden_with_time_axis)))\n",
    "            attention_weights = tf.nn.softmax(score, axis=1)\n",
    "            context_vector = attention_weights * values\n",
    "            context_vector = tf.reduce_sum(context_vector, axis=1)\n",
    "            return context_vector, attention_weights\n",
    "    \n",
    "    \n",
    "    sequence_input = Input(shape = (max_len, ), dtype = 'int32')\n",
    "    embedded_sequences = Embedding(vocab_size, 300, weights=[embedding_matrix], input_length=max_len, trainable=False, \n",
    "                               mask_zero = True)(sequence_input)\n",
    "    lstm = Bidirectional(LSTM(units = 128, dropout = 0.2, return_sequences = True))(embedded_sequences)\n",
    "    lstm, forward_h, forward_c, backward_h, backward_c = Bidirectional(LSTM(units = 129, dropout = 0.2, return_sequences=True, return_state=True))(lstm)\n",
    "    \n",
    "    state_h = Concatenate()([forward_h, backward_h])\n",
    "    state_c = Concatenate()([forward_c, backward_c])\n",
    "\n",
    "    attention = BahdanauAttention(64) # 가중치 크기 정의\n",
    "    context_vector, attention_weights = attention(lstm, state_h)\n",
    "\n",
    "    dense = Dense(units = 300, activation=\"relu\")(context_vector)\n",
    "    dropout = Dropout(rate = 0.2)(dense)\n",
    "    output = Dense(349, activation=\"softmax\")(dropout)\n",
    "\n",
    "    model2 = Model(inputs=sequence_input, outputs=output)\n",
    "\n",
    "    model2.compile(optimizer='adam', loss='categorical_crossentropy', metrics=[tfa.metrics.FBetaScore(num_classes=349, average='micro', beta=0.5)])\n",
    "    \n",
    "    return model2"
   ]
  },
  {
   "cell_type": "code",
   "execution_count": 98,
   "metadata": {},
   "outputs": [],
   "source": [
    "model2 = create_model()"
   ]
  },
  {
   "cell_type": "code",
   "execution_count": 104,
   "metadata": {},
   "outputs": [],
   "source": [
    "model2.load_weights('./attention_weights.h5')"
   ]
  },
  {
   "cell_type": "code",
   "execution_count": 105,
   "metadata": {},
   "outputs": [
    {
     "name": "stdout",
     "output_type": "stream",
     "text": [
      "950/950 [==============================] - 114s 115ms/step - loss: 0.1143 - fbeta_score: 0.9565\n"
     ]
    },
    {
     "data": {
      "text/plain": [
       "[0.16182972490787506, 0.9300128221511841]"
      ]
     },
     "execution_count": 105,
     "metadata": {},
     "output_type": "execute_result"
    }
   ],
   "source": [
    "model2.evaluate(X, y)"
   ]
  },
  {
   "cell_type": "code",
   "execution_count": 106,
   "metadata": {},
   "outputs": [
    {
     "name": "stdout",
     "output_type": "stream",
     "text": [
      "950/950 [==============================] - 118s 115ms/step - loss: 0.1618 - fbeta_score: 0.9300\n"
     ]
    },
    {
     "data": {
      "text/plain": [
       "[0.16182973980903625, 0.9300128221511841]"
      ]
     },
     "execution_count": 106,
     "metadata": {},
     "output_type": "execute_result"
    }
   ],
   "source": [
    "model.evaluate(X, y)"
   ]
  }
 ],
 "metadata": {
  "kernelspec": {
   "display_name": "Python 3",
   "language": "python",
   "name": "python3"
  }
 },
 "nbformat": 4,
 "nbformat_minor": 4
}
